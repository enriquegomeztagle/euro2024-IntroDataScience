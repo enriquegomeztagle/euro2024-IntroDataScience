{
 "cells": [
  {
   "cell_type": "code",
   "execution_count": 39,
   "metadata": {},
   "outputs": [],
   "source": [
    "import csv\n",
    "import matplotlib.pyplot as plt\n",
    "import numpy as np\n",
    "import matplotlib\n",
    "matplotlib.use('TkAgg')\n",
    "import pandas as pd\n",
    "import seaborn as sns\n",
    "from datetime import datetime\n",
    "from dateutil import parser"
   ]
  },
  {
   "cell_type": "code",
   "execution_count": 40,
   "metadata": {},
   "outputs": [],
   "source": [
    "CSV_PATH = \"../dataset/matches/euro/2024.csv\""
   ]
  },
  {
   "cell_type": "code",
   "execution_count": 41,
   "metadata": {},
   "outputs": [],
   "source": [
    "def load_csv(csv_path):\n",
    "   \"\"\"Load a CSV file and return two lists: events and players\"\"\"\n",
    "   events = []\n",
    "   players = []\n",
    "\n",
    "   with open(csv_path, encoding='latin-1') as csv_f:\n",
    "       fixed_data = csv_f.read().replace(' nan', ' None')  # Preprocess data from csv-file\n",
    "       reader = csv.reader(fixed_data.splitlines())\n",
    "\n",
    "       headers = next(reader)  # Skip the header\n",
    "       for row in reader:\n",
    "           events += eval(row[-1])\n",
    "           players += eval(row[-4])  # Add teams from \"home\" games\n",
    "           players += eval(row[-5])  # Add teams from \"away\" games\n",
    "\n",
    "   # So far, the \"players\" list contains multiple copies of the same players from different games;\n",
    "   # Fix it by putting the players into a dictionary by ID, thus overwriting duplicates\n",
    "   players_dict = {i['id_player']: i for i in players}\n",
    "   players = players_dict.values()\n",
    "\n",
    "   # We're only interested in events related to a person (e.g. \"goal\", \"card\"). Remove the rest\n",
    "   events = [i for i in events if i['primary_id_person'] is not None]\n",
    "\n",
    "   return events, players\n",
    "\n",
    "\n",
    "def find_player_by_id(players, player_id):\n",
    "   \"\"\"Return the player corresponding to the specified player ID\"\"\"\n",
    "   return [i for i in players if i['id_player'] == player_id][0]\n",
    "\n",
    "\n",
    "def filter_events_by_type(all_events, event_type):\n",
    "   \"\"\"Return a list of events with only a given type (e.g. 'GOAL')\"\"\"\n",
    "   return [i for i in all_events if i['type'] == event_type]"
   ]
  },
  {
   "cell_type": "code",
   "execution_count": 42,
   "metadata": {},
   "outputs": [],
   "source": [
    "events, players = load_csv(CSV_PATH)"
   ]
  },
  {
   "cell_type": "code",
   "execution_count": 43,
   "metadata": {},
   "outputs": [],
   "source": [
    "df1 = pd.read_csv(CSV_PATH)"
   ]
  },
  {
   "cell_type": "code",
   "execution_count": 44,
   "metadata": {},
   "outputs": [
    {
     "name": "stdout",
     "output_type": "stream",
     "text": [
      "Index(['id_match', 'home_team', 'away_team', 'home_team_code',\n",
      "       'away_team_code', 'home_score', 'away_score', 'home_penalty',\n",
      "       'away_penalty', 'home_score_total', 'away_score_total', 'winner',\n",
      "       'winner_reason', 'year', 'date', 'date_time', 'utc_offset_hours',\n",
      "       'group_name', 'matchday_name', 'condition_humidity', 'condition_pitch',\n",
      "       'condition_temperature', 'condition_weather', 'condition_wind_speed',\n",
      "       'status', 'type', 'round', 'round_mode', 'match_attendance',\n",
      "       'stadium_id', 'stadium_country_code', 'stadium_capacity',\n",
      "       'stadium_latitude', 'stadium_longitude', 'stadium_pitch_length',\n",
      "       'stadium_pitch_width', 'goals', 'penalties_missed', 'penalties',\n",
      "       'red_cards', 'game_referees', 'stadium_city', 'stadium_name',\n",
      "       'stadium_name_media', 'stadium_name_official', 'stadium_name_event',\n",
      "       'stadium_name_sponsor', 'home_lineups', 'away_lineups', 'home_coaches',\n",
      "       'away_coaches', 'events'],\n",
      "      dtype='object')\n"
     ]
    }
   ],
   "source": [
    "print(df1.columns)"
   ]
  },
  {
   "cell_type": "code",
   "execution_count": 45,
   "metadata": {},
   "outputs": [],
   "source": [
    "def count_goals_by_body_part(goal_events):\n",
    "    \"\"\"Take goal events and count the number of goals per body part; return as a dict\"\"\"\n",
    "    result = {}\n",
    "    for event in goal_events:\n",
    "        body_part = event.get('body_part')\n",
    "        if body_part:\n",
    "            result[body_part] = result.get(body_part, 0) + 1\n",
    "    return result"
   ]
  },
  {
   "cell_type": "code",
   "execution_count": 46,
   "metadata": {},
   "outputs": [],
   "source": [
    "def show_body_part_pie_chart(body_parts_count):\n",
    "    \"\"\"Plot and show a pie chart of goals by body part\"\"\"\n",
    "    colors = ['#AE1DF4', '#01E08F', '#7463FF', '#111111']\n",
    "    \n",
    "    plt.figure(figsize=(6, 6), dpi=130)\n",
    "    plt.pie(\n",
    "        body_parts_count.values(),\n",
    "        labels=body_parts_count.keys(),\n",
    "        autopct='%1.1f%%',\n",
    "        textprops={'color': '#333333'},\n",
    "        colors=colors[:len(body_parts_count)]  # Adjust colors list length\n",
    "    )\n",
    "    plt.title('Goals per body part')\n",
    "    plt.show()"
   ]
  },
  {
   "cell_type": "code",
   "execution_count": 47,
   "metadata": {},
   "outputs": [],
   "source": [
    "goal_events = filter_events_by_type(events, 'GOAL')\n",
    "body_parts_count = count_goals_by_body_part(goal_events)\n",
    "show_body_part_pie_chart(body_parts_count)"
   ]
  },
  {
   "cell_type": "code",
   "execution_count": 48,
   "metadata": {},
   "outputs": [],
   "source": [
    "def get_jerseys_numbers_by_event(events, players, event_type):\n",
    "    \"\"\"Return a simple list of jersey numbers corresponding to events of specified event_type\"\"\"\n",
    " \n",
    "    selected_events = filter_events_by_type(events, event_type)\n",
    " \n",
    "    # Helper function to find a player by ID and return his number\n",
    "    def jersey_num_by_id(player_id):\n",
    "        return find_player_by_id(players, player_id)['jersey_namber']\n",
    " \n",
    "    return [jersey_num_by_id(i['primary_id_person']) for i in selected_events]\n",
    " \n",
    " \n",
    "def plot_jerseys_numbers_histogram(jerseys_list, data_label, data_color):\n",
    "    '''Plot the jersey histogram based on \"jerseys_list\" data'''\n",
    "    MAX_JERSEY_NUM = 26\n",
    "    _, bins, _ = plt.hist(\n",
    "        jerseys_list,\n",
    "        bins=np.arange(MAX_JERSEY_NUM + 2) - 0.5,\n",
    "        label=data_label,\n",
    "        edgecolor='black',\n",
    "        color=data_color,\n",
    "        alpha=0.5\n",
    "    )\n",
    "    plt.xticks(0.5 * (bins[1:-1] + bins[2:]))  # Make sure all numbers are labeld on x-axis\n",
    "    plt.legend()"
   ]
  },
  {
   "cell_type": "code",
   "execution_count": 49,
   "metadata": {},
   "outputs": [],
   "source": [
    "goals_jerseys = get_jerseys_numbers_by_event(events, players, 'GOAL')\n",
    "cards_jerseys = get_jerseys_numbers_by_event(events, players, 'YELLOW_CARD')\n",
    " \n",
    "plt.subplot(2, 1, 1)  # Top plot\n",
    "plt.title('Events by jersey number')\n",
    "plot_jerseys_numbers_histogram(goals_jerseys, 'Goals', 'lightgreen')\n",
    " \n",
    "plt.subplot(2, 1, 2)  # Bottom plot\n",
    "plt.xlabel('Jersey number')\n",
    "plot_jerseys_numbers_histogram(cards_jerseys, 'Yellow cards', 'yellow')\n",
    " \n",
    "plt.show()"
   ]
  },
  {
   "cell_type": "code",
   "execution_count": 50,
   "metadata": {},
   "outputs": [],
   "source": [
    "df2 = pd.read_csv(\"../dataset/euro_lineups.csv\")"
   ]
  }
 ],
 "metadata": {
  "kernelspec": {
   "display_name": "ML",
   "language": "python",
   "name": "python3"
  },
  "language_info": {
   "codemirror_mode": {
    "name": "ipython",
    "version": 3
   },
   "file_extension": ".py",
   "mimetype": "text/x-python",
   "name": "python",
   "nbconvert_exporter": "python",
   "pygments_lexer": "ipython3",
   "version": "3.9.19"
  }
 },
 "nbformat": 4,
 "nbformat_minor": 2
}
