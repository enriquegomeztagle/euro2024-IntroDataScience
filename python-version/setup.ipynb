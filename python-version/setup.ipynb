{
 "cells": [
  {
   "cell_type": "code",
   "execution_count": 1,
   "metadata": {},
   "outputs": [],
   "source": [
    "import csv\n",
    "import matplotlib.pyplot as plt\n",
    "import numpy as np\n",
    "import matplotlib\n",
    "matplotlib.use('TkAgg')"
   ]
  },
  {
   "cell_type": "code",
   "execution_count": 23,
   "metadata": {},
   "outputs": [],
   "source": [
    "CSV_PATH = \"../../dataset/matches/matches/euro/2024.csv\""
   ]
  },
  {
   "cell_type": "code",
   "execution_count": 24,
   "metadata": {},
   "outputs": [
    {
     "ename": "FileNotFoundError",
     "evalue": "[WinError 3] The system cannot find the path specified: '../../dataset/matches/matches/euro/'",
     "output_type": "error",
     "traceback": [
      "\u001b[1;31m---------------------------------------------------------------------------\u001b[0m",
      "\u001b[1;31mFileNotFoundError\u001b[0m                         Traceback (most recent call last)",
      "Cell \u001b[1;32mIn[24], line 3\u001b[0m\n\u001b[0;32m      1\u001b[0m \u001b[38;5;66;03m# List all files in csv_path dir \u001b[39;00m\n\u001b[0;32m      2\u001b[0m \u001b[38;5;28;01mimport\u001b[39;00m \u001b[38;5;21;01mos\u001b[39;00m\n\u001b[1;32m----> 3\u001b[0m \u001b[38;5;28mprint\u001b[39m(\u001b[43mos\u001b[49m\u001b[38;5;241;43m.\u001b[39;49m\u001b[43mlistdir\u001b[49m\u001b[43m(\u001b[49m\u001b[43mCSV_PATH\u001b[49m\u001b[43m)\u001b[49m)\n",
      "\u001b[1;31mFileNotFoundError\u001b[0m: [WinError 3] The system cannot find the path specified: '../../dataset/matches/matches/euro/'"
     ]
    }
   ],
   "source": [
    "# List all files in csv_path dir \n",
    "import os\n",
    "print(os.listdir(CSV_PATH))"
   ]
  },
  {
   "cell_type": "code",
   "execution_count": 18,
   "metadata": {},
   "outputs": [],
   "source": [
    "def load_csv(csv_path):\n",
    "   \"\"\"Load a CSV file and return two lists: events and players\"\"\"\n",
    "   events = []\n",
    "   players = []\n",
    "\n",
    "   with open(csv_path, encoding='latin-1') as csv_f:\n",
    "       fixed_data = csv_f.read().replace(' nan', ' None')  # Preprocess data from csv-file\n",
    "       reader = csv.reader(fixed_data.splitlines())\n",
    "\n",
    "       headers = next(reader)  # Skip the header\n",
    "       for row in reader:\n",
    "           events += eval(row[-1])\n",
    "           players += eval(row[-4])  # Add teams from \"home\" games\n",
    "           players += eval(row[-5])  # Add teams from \"away\" games\n",
    "\n",
    "   # So far, the \"players\" list contains multiple copies of the same players from different games;\n",
    "   # Fix it by putting the players into a dictionary by ID, thus overwriting duplicates\n",
    "   players_dict = {i['id_player']: i for i in players}\n",
    "   players = players_dict.values()\n",
    "\n",
    "   # We're only interested in events related to a person (e.g. \"goal\", \"card\"). Remove the rest\n",
    "   events = [i for i in events if i['primary_id_person'] is not None]\n",
    "\n",
    "   return events, players\n",
    "\n",
    "\n",
    "def find_player_by_id(players, player_id):\n",
    "   \"\"\"Return the player corresponding to the specified player ID\"\"\"\n",
    "   return [i for i in players if i['id_player'] == player_id][0]\n",
    "\n",
    "\n",
    "def filter_events_by_type(all_events, event_type):\n",
    "   \"\"\"Return a list of events with only a given type (e.g. 'GOAL')\"\"\"\n",
    "   return [i for i in all_events if i['type'] == event_type]"
   ]
  },
  {
   "cell_type": "code",
   "execution_count": 19,
   "metadata": {},
   "outputs": [
    {
     "ename": "FileNotFoundError",
     "evalue": "[Errno 2] No such file or directory: '../dataset/matches/matches/euro/2024.csv'",
     "output_type": "error",
     "traceback": [
      "\u001b[1;31m---------------------------------------------------------------------------\u001b[0m",
      "\u001b[1;31mFileNotFoundError\u001b[0m                         Traceback (most recent call last)",
      "Cell \u001b[1;32mIn[19], line 1\u001b[0m\n\u001b[1;32m----> 1\u001b[0m events, players \u001b[38;5;241m=\u001b[39m \u001b[43mload_csv\u001b[49m\u001b[43m(\u001b[49m\u001b[43mCSV_PATH\u001b[49m\u001b[43m)\u001b[49m\n",
      "Cell \u001b[1;32mIn[18], line 6\u001b[0m, in \u001b[0;36mload_csv\u001b[1;34m(csv_path)\u001b[0m\n\u001b[0;32m      3\u001b[0m events \u001b[38;5;241m=\u001b[39m []\n\u001b[0;32m      4\u001b[0m players \u001b[38;5;241m=\u001b[39m []\n\u001b[1;32m----> 6\u001b[0m \u001b[38;5;28;01mwith\u001b[39;00m \u001b[38;5;28;43mopen\u001b[39;49m\u001b[43m(\u001b[49m\u001b[43mcsv_path\u001b[49m\u001b[43m,\u001b[49m\u001b[43m \u001b[49m\u001b[43mencoding\u001b[49m\u001b[38;5;241;43m=\u001b[39;49m\u001b[38;5;124;43m'\u001b[39;49m\u001b[38;5;124;43mlatin-1\u001b[39;49m\u001b[38;5;124;43m'\u001b[39;49m\u001b[43m)\u001b[49m \u001b[38;5;28;01mas\u001b[39;00m csv_f:\n\u001b[0;32m      7\u001b[0m     fixed_data \u001b[38;5;241m=\u001b[39m csv_f\u001b[38;5;241m.\u001b[39mread()\u001b[38;5;241m.\u001b[39mreplace(\u001b[38;5;124m'\u001b[39m\u001b[38;5;124m nan\u001b[39m\u001b[38;5;124m'\u001b[39m, \u001b[38;5;124m'\u001b[39m\u001b[38;5;124m None\u001b[39m\u001b[38;5;124m'\u001b[39m)  \u001b[38;5;66;03m# Preprocess data from csv-file\u001b[39;00m\n\u001b[0;32m      8\u001b[0m     reader \u001b[38;5;241m=\u001b[39m csv\u001b[38;5;241m.\u001b[39mreader(fixed_data\u001b[38;5;241m.\u001b[39msplitlines())\n",
      "File \u001b[1;32mc:\\Users\\eubgo\\anaconda3\\envs\\ML\\lib\\site-packages\\IPython\\core\\interactiveshell.py:310\u001b[0m, in \u001b[0;36m_modified_open\u001b[1;34m(file, *args, **kwargs)\u001b[0m\n\u001b[0;32m    303\u001b[0m \u001b[38;5;28;01mif\u001b[39;00m file \u001b[38;5;129;01min\u001b[39;00m {\u001b[38;5;241m0\u001b[39m, \u001b[38;5;241m1\u001b[39m, \u001b[38;5;241m2\u001b[39m}:\n\u001b[0;32m    304\u001b[0m     \u001b[38;5;28;01mraise\u001b[39;00m \u001b[38;5;167;01mValueError\u001b[39;00m(\n\u001b[0;32m    305\u001b[0m         \u001b[38;5;124mf\u001b[39m\u001b[38;5;124m\"\u001b[39m\u001b[38;5;124mIPython won\u001b[39m\u001b[38;5;124m'\u001b[39m\u001b[38;5;124mt let you open fd=\u001b[39m\u001b[38;5;132;01m{\u001b[39;00mfile\u001b[38;5;132;01m}\u001b[39;00m\u001b[38;5;124m by default \u001b[39m\u001b[38;5;124m\"\u001b[39m\n\u001b[0;32m    306\u001b[0m         \u001b[38;5;124m\"\u001b[39m\u001b[38;5;124mas it is likely to crash IPython. If you know what you are doing, \u001b[39m\u001b[38;5;124m\"\u001b[39m\n\u001b[0;32m    307\u001b[0m         \u001b[38;5;124m\"\u001b[39m\u001b[38;5;124myou can use builtins\u001b[39m\u001b[38;5;124m'\u001b[39m\u001b[38;5;124m open.\u001b[39m\u001b[38;5;124m\"\u001b[39m\n\u001b[0;32m    308\u001b[0m     )\n\u001b[1;32m--> 310\u001b[0m \u001b[38;5;28;01mreturn\u001b[39;00m io_open(file, \u001b[38;5;241m*\u001b[39margs, \u001b[38;5;241m*\u001b[39m\u001b[38;5;241m*\u001b[39mkwargs)\n",
      "\u001b[1;31mFileNotFoundError\u001b[0m: [Errno 2] No such file or directory: '../dataset/matches/matches/euro/2024.csv'"
     ]
    }
   ],
   "source": [
    "events, players = load_csv(CSV_PATH)"
   ]
  },
  {
   "cell_type": "code",
   "execution_count": null,
   "metadata": {},
   "outputs": [],
   "source": [
    "def count_goals_by_body_part(goal_events):\n",
    "    \"\"\"Take goal events and count the number of goals per body part; return as a dict\"\"\"\n",
    "    result = {}\n",
    "    for event in goal_events:\n",
    "        body_part = event.get('body_part')\n",
    "        if body_part:\n",
    "            result[body_part] = result.get(body_part, 0) + 1\n",
    "    return result"
   ]
  },
  {
   "cell_type": "code",
   "execution_count": null,
   "metadata": {},
   "outputs": [],
   "source": [
    "def show_body_part_pie_chart(body_parts_count):\n",
    "    \"\"\"Plot and show a pie chart of goals by body part\"\"\"\n",
    "    colors = ['#AE1DF4', '#01E08F', '#7463FF', '#111111']\n",
    "    \n",
    "    plt.figure(figsize=(6, 6), dpi=130)\n",
    "    plt.pie(\n",
    "        body_parts_count.values(),\n",
    "        labels=body_parts_count.keys(),\n",
    "        autopct='%1.1f%%',\n",
    "        textprops={'color': '#333333'},\n",
    "        colors=colors[:len(body_parts_count)]  # Adjust colors list length\n",
    "    )\n",
    "    plt.title('Goals per body part')\n",
    "    plt.show()"
   ]
  },
  {
   "cell_type": "code",
   "execution_count": 5,
   "metadata": {},
   "outputs": [
    {
     "ename": "NameError",
     "evalue": "name 'events' is not defined",
     "output_type": "error",
     "traceback": [
      "\u001b[1;31m---------------------------------------------------------------------------\u001b[0m",
      "\u001b[1;31mNameError\u001b[0m                                 Traceback (most recent call last)",
      "Cell \u001b[1;32mIn[5], line 1\u001b[0m\n\u001b[1;32m----> 1\u001b[0m goal_events \u001b[38;5;241m=\u001b[39m filter_events_by_type(\u001b[43mevents\u001b[49m, \u001b[38;5;124m'\u001b[39m\u001b[38;5;124mGOAL\u001b[39m\u001b[38;5;124m'\u001b[39m)\n\u001b[0;32m      2\u001b[0m body_parts_count \u001b[38;5;241m=\u001b[39m count_goals_by_body_part(goal_events)\n\u001b[0;32m      3\u001b[0m show_body_part_pie_chart(body_parts_count)\n",
      "\u001b[1;31mNameError\u001b[0m: name 'events' is not defined"
     ]
    }
   ],
   "source": [
    "goal_events = filter_events_by_type(events, 'GOAL')\n",
    "body_parts_count = count_goals_by_body_part(goal_events)\n",
    "show_body_part_pie_chart(body_parts_count)"
   ]
  },
  {
   "cell_type": "code",
   "execution_count": null,
   "metadata": {},
   "outputs": [],
   "source": []
  }
 ],
 "metadata": {
  "kernelspec": {
   "display_name": "ML",
   "language": "python",
   "name": "python3"
  },
  "language_info": {
   "codemirror_mode": {
    "name": "ipython",
    "version": 3
   },
   "file_extension": ".py",
   "mimetype": "text/x-python",
   "name": "python",
   "nbconvert_exporter": "python",
   "pygments_lexer": "ipython3",
   "version": "3.9.19"
  }
 },
 "nbformat": 4,
 "nbformat_minor": 2
}
